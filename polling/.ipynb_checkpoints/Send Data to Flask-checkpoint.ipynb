{
 "cells": [
  {
   "cell_type": "code",
   "execution_count": 147,
   "metadata": {},
   "outputs": [],
   "source": [
    "import requests\n",
    "import json\n",
    "import numpy as np\n",
    "import matplotlib.pyplot as plt\n",
    "from matplotlib.figure import Figure\n",
    "\n",
    "%matplotlib inline  \n",
    "\n",
    "\n",
    "url = 'http://[local-ip address]:5000'\n",
    "\n"
   ]
  },
  {
   "cell_type": "code",
   "execution_count": null,
   "metadata": {},
   "outputs": [],
   "source": [
    "## change question and answers \n",
    "\n",
    "data = {}\n",
    "questions = ['A','B','C','D']\n",
    "data['questions'] = questions\n",
    "data['filename'] = 'data//pollQ3.csv'\n",
    "\n",
    "#response = requests.post(url + '/questions', json=data)\n",
    "#json.loads(response.content)"
   ]
  },
  {
   "cell_type": "code",
   "execution_count": 156,
   "metadata": {},
   "outputs": [
    {
     "data": {
      "image/png": "[encoded data removed]",
      "text/plain": [
       "<matplotlib.figure.Figure at 0x83c6e10>"
      ]
     },
     "metadata": {},
     "output_type": "display_data"
    }
   ],
   "source": [
    "## read data\n",
    "\n",
    "response0 = requests.post(url + '/iplot')\n",
    "r0 = json.loads(response0.content)\n",
    "x0 = [str(r1) for r1 in r0['fields']]\n",
    "y0 = r0['values']\n",
    "data0 = np.array([x0,y0]).T\n",
    "data0 = data0[data0[:,0].argsort()]\n",
    "\n",
    "fig, ax = plt.subplots()\n",
    "bar_width = 0.35\n",
    "opacity = 0.75\n",
    "\n",
    "xs = np.arange(len(data0[:,0]))\n",
    "ys = 100*np.array(data0[:,1].astype(float))/np.sum(data0[:,1].astype(float))\n",
    "\n",
    "rects1 = plt.bar(xs, ys, bar_width, alpha=opacity, align='center', color='#0DFF92',label='resultados')\n",
    "plt.xlabel('Seleccion')\n",
    "plt.ylabel('Votos[%]')\n",
    "plt.title('Resultados, Total de votos : ' + str(np.sum(data0[:,1].astype(float))))\n",
    "a1 = ax.yaxis.grid(True, linestyle='--', which='major', color='black', alpha=.55)\n",
    "plt.xticks(xs, data0[:,0])\n",
    "plt.legend()\n",
    "plt.tight_layout()\n",
    "plt.show()"
   ]
  },
  {
   "cell_type": "code",
   "execution_count": null,
   "metadata": {},
   "outputs": [],
   "source": []
  }
 ],
 "metadata": {
  "anaconda-cloud": {},
  "kernelspec": {
   "display_name": "ens3",
   "language": "python",
   "name": "ens3"
  },
  "language_info": {
   "codemirror_mode": {
    "name": "ipython",
    "version": 2
   },
   "file_extension": ".py",
   "mimetype": "text/x-python",
   "name": "python",
   "nbconvert_exporter": "python",
   "pygments_lexer": "ipython2",
   "version": "2.7.14"
  }
 },
 "nbformat": 4,
 "nbformat_minor": 2
}
