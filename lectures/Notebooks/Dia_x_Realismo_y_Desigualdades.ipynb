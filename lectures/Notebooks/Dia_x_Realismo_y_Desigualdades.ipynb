{
 "cells": [
  {
   "cell_type": "markdown",
   "metadata": {
    "slideshow": {
     "slide_type": "slide"
    }
   },
   "source": [
    "<center> <h1>Realismo local y realismo no local</h1>\n",
    "<h2> Desigualdades de Bell </h2></center>"
   ]
  },
  {
   "cell_type": "markdown",
   "metadata": {
    "slideshow": {
     "slide_type": "slide"
    }
   },
   "source": [
    "Para ejemplificar esto, asumamos que se generan parejas de fotones que están máximamente entrelazados en el cristal del centro con frecuencias $\\nu_A$ y $\\nu_B$ en direcciones opuestas. Éstos, serán detectados por un par de fotodectores frente a los polarizadores mostrados en la figura, los cuales puede discernir entre estados ortogonales. Los analizadores sólo dejan pasar fotones que se alinean con el eje de polarización mostrado en la figura a cada detector.\n",
    "<center>    \n",
    "<img src=\"Images/measure.png\" alt=\"drawing\" style=\"width:350px;\">\n",
    "</center>\n",
    "El estado que se produce en el cristal se puede describir en la base de polarización como sigue\n",
    "$$\n",
    "|\\Phi_+^{AB}\\rangle =\\frac{1}{\\sqrt{2}} \\left(|x,x\\rangle +    |y,y\\rangle    \\right).\n",
    "$$\n",
    "\n",
    "El proceso de detección se puede describir con los operadores\n",
    "$$\n",
    "E^A (\\alpha) = |x^A\\rangle \\langle x^A| - |y^A \\rangle \\langle y^A|,\\\\\n",
    "E^B (\\beta) = |x^B\\rangle \\langle x^B| - |y^B \\rangle \\langle y^B|.\n",
    "$$"
   ]
  },
  {
   "cell_type": "markdown",
   "metadata": {
    "slideshow": {
     "slide_type": "subslide"
    }
   },
   "source": [
    "$P_{+-}$ es la probabilidad que la polarización $x^A$ se observe en $A$ y $y^B$ en $B$, que corresponde con haber obtenido +1 y -1 y un producto -1.\n",
    "\n",
    "Para cualquier ángulo de los polarizadores mostrado en la figura, es posible escribir las polarizaciones rotadas en la siguiente forma:\n",
    "$$\n",
    "|x^A\\rangle = cos\\alpha |x \\rangle + \\sin \\alpha |y\\rangle, \\quad\n",
    "|y^A\\rangle = -sin \\alpha |x \\rangle + \\cos \\alpha |y\\rangle.\n",
    "$$\n",
    "\n",
    "Con lo anterior se pueden obtener las diferentes probabilidades $P_{ij}$, $ij = {=,-}$, por ejemplo $P_{++}= \\langle \\Phi_+^{AB} |x^A,x^B \\rangle \\langle x^A,x^B| \\Phi_+^{AB}= \\frac{1}{2}\\cos^2(\\beta-\\alpha)$.\n",
    "\n",
    "Ejercicio: calcule las probabilidades restantes.\n",
    "Asimismo, calcule el coeficiente de correlación $\\epsilon ^{AB}(\\alpha,\\beta):=\\langle \\Phi_+^{AB}|E^A(\\alpha)\\otimes E^B(\\beta) | \\Phi_+{AB}\\langle$"
   ]
  },
  {
   "cell_type": "markdown",
   "metadata": {
    "slideshow": {
     "slide_type": "subslide"
    }
   },
   "source": [
    "Deberá obtener los resultados siguientes:\n",
    "\n",
    "$$\n",
    "P_{--}=P_{++}\\\\\n",
    "P_{+-} = P_{-+} = \\frac{1}{2}\\sin^2 (\\beta-\\alpha)\n",
    "$$\n",
    "\n",
    "$$\n",
    "\\epsilon ^{AB}(\\alpha,\\beta)=P_{++}+P_{--}-P_{+-}-P_{-+}=\\cos 2(\\beta-\\alpha)\n",
    "$$"
   ]
  },
  {
   "cell_type": "code",
   "execution_count": null,
   "metadata": {},
   "outputs": [],
   "source": []
  },
  {
   "cell_type": "markdown",
   "metadata": {
    "slideshow": {
     "slide_type": "slide"
    }
   },
   "source": [
    "<center><h2> Variables ocultas </h2></center>\n",
    "\n",
    "\n",
    "Un conjunto de variables ocultas se sumarizan en $\\lambda$.\n",
    "    \n",
    "* $\\lambda \\in \\Re$.\n",
    "* Las propiedades de un objeto se pueden describir por cierto conjunto de valores de $\\lambda$. \n",
    "* Se producen partículas con un conjunto de valores $\\lambda$ por alguna fuente con una densidad de probabilidad dada por $\\rho (\\lambda)$, se cumple\n",
    "    * $\\begin{equation}\\int \\rho (\\lambda) d\\lambda =1,\\tag{1}\\end{equation}$\n",
    "    * $\\rho (\\lambda)$ es positiva y semidefinida. \n",
    "\n",
    "<p class=\"fragment fade-up\">\n",
    "    \n",
    "Objeto clásico: Un objeto clásico en $A$, caracterizado por $\\lambda$ y con un ángulo de rotación $\\delta_1$ del analizador en $A$ tiene predeterminado cual polarización será observada ($x^A$ o $y^A$). Por lo tanto existe una función no ambigua $S_A^\\lambda (\\delta_1)$ con valores +1 o -1.\n",
    "$$\n",
    " S_A^\\lambda (\\delta_1) = \\left \\{ \\begin{matrix} +1 \n",
    "\\\\ -1  \\end{matrix}\\right\\},   S_B^\\lambda (\\delta_2) = \\left \\{ \\begin{matrix} +1 \n",
    "\\\\ -1  \\end{matrix}\\right\\}.\n",
    "$$\n",
    "</p>\n",
    "\n",
    "<p class=\"fragment fade-up\">\n",
    "    Con la correlación clásica\n",
    "    $$\\begin{equation} \\epsilon^{cl}(\\delta_1,\\delta_2) = \\int \\rho (\\lambda) S_A^\\lambda (\\delta_1) S_B^\\lambda (\\delta_2) d\\lambda.\n",
    "    \\label{eq2}\n",
    "    \\tag{2}\n",
    "    \\end{equation}\n",
    "    $$\n",
    "</p>\n",
    "\n",
    "<p class=\"fragment fade-up\">\n",
    "Esto corresponde con una teoría para variables ocultas $\\lambda$.\n",
    "</p>\n",
    "\n",
    "</section>"
   ]
  },
  {
   "cell_type": "markdown",
   "metadata": {},
   "source": []
  },
  {
   "cell_type": "markdown",
   "metadata": {
    "slideshow": {
     "slide_type": "slide"
    }
   },
   "source": [
    "<center><h2> Desigualdades de Bell </h2></center>\n",
    "\n",
    "En el caso de analizadores con orientación paralela deberá cumplirse la correlación completa\n",
    "\n",
    "   $$ \\epsilon^{cl}(\\delta_1,\\delta_2) = \\int \\rho (\\lambda) S_A^\\lambda (\\delta_1) S_B^\\lambda (\\delta_2) d\\lambda =1\n",
    "    $$\n",
    "    \n",
    "utilizando (1) y (2), es posible notar que $S_A^\\lambda (\\delta) = S_B^\\lambda (\\delta)$\n",
    "\n",
    "### CASO GENERAL  \n",
    "Se realizarán mediciones utilizando tres orientaciones $\\delta_1, \\delta_2, \\delta_3$. En el orden siguiente $(\\delta_1, \\delta_2), (\\delta_2, \\delta_3), (\\delta_1, \\delta_3)$. \n",
    "\n",
    "Esto es porque $$ -S^\\lambda (\\delta_1)S^\\lambda (\\delta_3) = -S^\\lambda (\\delta_1)S^\\lambda (\\delta_2)S^\\lambda (\\delta_2)S^\\lambda (\\delta_3)$$. \n",
    "\n",
    "<p class=\"fragment fade-up\">\n",
    "Ahora agregamos un término nulo al lado izquierdo dado por $S^\\lambda (\\delta_1)S^\\lambda (\\delta_2)-S^\\lambda (\\delta_1)S^\\lambda (\\delta_2)$\n",
    "</p>\n",
    "<p class=\"fragment fade-up\"> con lo que se pueden arreglar de la sigueinte manera\n",
    "$$  S^\\lambda (\\delta_1)S^\\lambda (\\delta_2) - S^\\lambda (\\delta_2)S^\\lambda (\\delta_3) = S^\\lambda (\\delta_1)S^\\lambda (\\delta_2) [1-S^\\lambda (\\delta_2)S^\\lambda (\\delta_3)]$$\n",
    "</p>\n"
   ]
  },
  {
   "cell_type": "markdown",
   "metadata": {
    "slideshow": {
     "slide_type": "subslide"
    }
   },
   "source": [
    "La integración de la expresión anterior conduce a\n",
    "\n",
    "$$ \\begin{align}\n",
    "& \\left|\\int d\\lambda \\rho (\\lambda) [S^\\lambda(\\delta_1)S^\\lambda(\\delta_2) - S^\\lambda(\\delta_1)S^\\lambda(\\delta_3)]\\right| \\\\\n",
    "= &\\left| \\int \\rho(\\lambda) d\\lambda S^\\lambda (\\delta_1)S^\\lambda (\\delta_2) [1-S^\\lambda (\\delta_2)S^\\lambda (\\delta_3)]   \\right|\\\\\n",
    "\\leq & 1 - \\int d\\lambda \\rho(\\lambda) S^\\lambda (\\delta_2)S^\\lambda (\\delta_3)] \n",
    "\\end{align}\n",
    "$$\n",
    "\n",
    "<p class=\"fragment fade-up\"> Tras lo anterior, podemos escribir la relación para la correlación clásica simplemente como\n",
    "    $$ \\left| \\epsilon^{cl} (\\delta_1,\\delta_2) - \\epsilon^{cl} (\\delta_2,\\delta_3) \\right| \\leq 1- \\epsilon^{cl} (\\delta_2,\\delta_3) $$\n",
    "</p>\n",
    "\n",
    "\n",
    "<section>\n",
    "\t<span class=\"fragment fade-in\">\n",
    "\t\t<span class=\"fragment highlight-red\">La cual es la expresión que aparece en el artículo de Bell de 1964\n",
    "J.S. Bell, On the Einstein-Podolsky-Rosen paradox, Physics 1, 195-200 (1964)</span>\n",
    "\t</span>\n",
    "</section>\n"
   ]
  },
  {
   "cell_type": "markdown",
   "metadata": {
    "slideshow": {
     "slide_type": "slide"
    }
   },
   "source": [
    "<center><h2> Desigualdad de Clauser, Horne, Shimony and Holt (CHSH) </h2></center>\n",
    "\n",
    "<p class=\"fragment fade-up\">\n",
    "Aquí se requieren 2 orientaciones de los analizadores para $A$ y para $B$.\n",
    "</p>\n",
    "\n",
    "<p class=\"fragment fade-up\">\n",
    "Se medirán $\\alpha_1$ y $\\alpha_2$ en $A$ y $\\beta_1$ y $\\beta_2$ en $B$.\n",
    "    \n",
    "Recordar que $S^\\lambda_{A,B} = \\pm 1$. Con esto se construye la siguiente expresión\n",
    "</p>\n",
    "\n",
    "<p class=\"fragment fade-up\">\n",
    "$$S_A^\\lambda (\\alpha_2) [ S_B^\\lambda (\\beta_1) +S_B^\\lambda (\\beta_2)]+S_A^\\lambda (\\alpha_1) [ S_B^\\lambda (\\beta_1) -S_B^\\lambda (\\beta_2)]:=\\{ \\cdots \\}\n",
    "$$</p>\n",
    "\n",
    "<p class=\"fragment fade-up\">\n",
    "Al expresarla en términos de la variable oculta $\\lambda$ \n",
    "\n",
    "$$\\left|\\int \\rho (\\lambda) d\\lambda \\{ \\cdots \\} \\right| \\leq 2 \\int \\rho (\\lambda) d\\lambda =2 $$\n",
    "</p>\n",
    "\n",
    "<p class=\"fragment fade-up\">\n",
    "Con esto escribimos la expresión en términos de los coeficientes de correlación \n",
    "    $$\n",
    "    S^{cl} = \\left| \\epsilon^{cl} (\\alpha_2,\\beta_1) + \\epsilon^{cl} (\\alpha_2,\\beta_2) \\epsilon^{cl} (\\alpha_1,\\beta_1) -\\epsilon^{cl} (\\alpha_1,\\beta_2)      \\right| \\leq 2\n",
    "    $$\n",
    "    Clauser, J.F., Horne, M.A., Shimonu, A., and Holt, R.A., Proposed experimento to test local hidden-variable theories, Phys. Rev. Lett., 23, 880-884 (1969).\n",
    "</p>\n"
   ]
  },
  {
   "cell_type": "markdown",
   "metadata": {
    "slideshow": {
     "slide_type": "slide"
    }
   },
   "source": [
    "Ejemplo de implementación de las desigualdades de Bell con strawberry fields.\n",
    "<center>\n",
    "<img src=\"Images/jgpo1.png\" alt=\"drawing\" style=\"width:600px;\">\n",
    "    </center>\n",
    "Se basan en el estado\n",
    "$$ | \\psi \\rangle = \\frac{1}{\\sqrt{2}} \\left( |2\\rangle |0\\rangle + |0\\rangle |2\\rangle\\right)$$"
   ]
  },
  {
   "cell_type": "markdown",
   "metadata": {
    "slideshow": {
     "slide_type": "slide"
    }
   },
   "source": [
    "### Descripción del método híbrido\n",
    "\n",
    "Pueden medir ya sea N fotones o la cuadratura X, y los resultados análogos a $S^\\lambda(\\delta)$ se explican como sigue: Alice y Bob pueden obtener los resultados $a,b = \\{+1,-1\\}$ bajo las siguientes condiciones:\n",
    "(Se dan para Alice, pero son equivalentes para Bob)\n",
    "$$\n",
    "N:  \\left \\{ \\begin{matrix} a = +1, & N>0 \n",
    "\\\\ a = -1, & N=0  \\end{matrix} \\right. \\quad X:  \\left \\{ \\begin{matrix} a = +1, & x \\in \\mathcal{A}^+, \\mathcal{A}^+\\in \\Re, \\mathcal{A}^+ =[-z,z]\n",
    "\\\\ a = -1, & x \\in \\mathcal{A}^- = \\Re \\text{\\ } \\mathcal{A}^+  \\end{matrix} \\right.\n",
    "$$\n",
    "\n",
    "<p class=\"fragment fade-up\">\n",
    "Se utiliza la desigualdad CHSH\n",
    "    $S= E_{XX}+ E_{XN} +E_{NX} - E_{NN} \\leq 2$,\n",
    "    en donde $E_{jk} = P(a=b|jk) - P(a\\neq b | jk)$\n",
    "</p>\n",
    "\n",
    "<p class=\"fragment fade-up\">\n",
    "Si Alice y Bob seleccionan medir en N, entonces $E_{NN} = -1$, esto se puede resumir en $P(a,b|NN) = (1-ab)/4$.\n",
    "</p>\n",
    "\n",
    "<p class=\"fragment fade-up\">\n",
    "¿Cómo hacer esta simulación en strawberry fields?\n",
    "</p>\n",
    "\n",
    "<p class=\"fragment fade-up\">\n",
    "https://peterwittek.com/verifying-cv-bell-correlations.html\n",
    "</p>\n"
   ]
  },
  {
   "cell_type": "code",
   "execution_count": 36,
   "metadata": {
    "slideshow": {
     "slide_type": "slide"
    }
   },
   "outputs": [],
   "source": [
    "import numpy as np\n",
    "import strawberryfields as sf\n",
    "from numpy import pi as π\n",
    "from strawberryfields.ops import Fock, BSgate, MeasureFock, MeasureX\n",
    "from tqdm import tqdm\n",
    "np.set_printoptions(suppress=True, precision=3)\n",
    "\n",
    "def prepare_and_measure(Alice, Bob, q):\n",
    "    Fock(1) | q[0]\n",
    "    Fock(1) | q[1]\n",
    "    BSgate(π/4, π) | (q[0], q[1])\n",
    "    Alice   | q[0]\n",
    "    Bob     | q[1]\n",
    "    \n",
    "def postprocess(in_, out, z):\n",
    "    if in_ == 0:\n",
    "        if out > 0:\n",
    "            return 1\n",
    "        else:\n",
    "            return 0\n",
    "    else:\n",
    "        if out < -z or out > z:\n",
    "            return 0\n",
    "        else:\n",
    "            return 1\n",
    "        \n",
    "def preprocess(in_):\n",
    "    if in_ == 0:\n",
    "        return MeasureFock()\n",
    "    else:\n",
    "        return MeasureX\n",
    "    \n"
   ]
  },
  {
   "cell_type": "code",
   "execution_count": 38,
   "metadata": {
    "slideshow": {
     "slide_type": "subslide"
    }
   },
   "outputs": [
    {
     "name": "stderr",
     "output_type": "stream",
     "text": [
      "100%|██████████████████████████████████████████████████████████████████████████████████████████████████████| 400/400 [00:13<00:00, 30.11it/s]\n"
     ]
    },
    {
     "name": "stdout",
     "output_type": "stream",
     "text": [
      "2.3338345864661654\n"
     ]
    }
   ],
   "source": [
    "def do_experiment(x, y, z=40.83):\n",
    "    Alice = preprocess(x)\n",
    "    Bob = preprocess(y)\n",
    "    eng, q = sf.Engine(2)\n",
    "    with eng:\n",
    "        prepare_and_measure(Alice, Bob, q)\n",
    "    eng.run('fock', cutoff_dim=3)\n",
    "    a = postprocess(x, q[0].val, z)\n",
    "    b = postprocess(y, q[1].val, z)\n",
    "    return a, b\n",
    "\n",
    "n_rounds = 400\n",
    "N = np.zeros((2, 2, 2, 2))\n",
    "for _ in tqdm(range(n_rounds)):\n",
    "    x = np.random.randint(2)\n",
    "    y = np.random.randint(2)\n",
    "    a, b = do_experiment(x, y)\n",
    "    N[a, b, x, y] += 1\n",
    "def calculate_expectation(N, x, y):\n",
    "    n = sum(N[a, b, x, y] for a in range(2) for b in range(2))\n",
    "    return (sum(N[a, b, x, y] for a, b in zip(range(2), range(2))) -\n",
    "            sum(N[a, b, x, y] for a, b in zip(range(2), range(1, -1,-1))))/n\n",
    "\n",
    "E_NN = calculate_expectation(N, 0, 0)\n",
    "E_XN = calculate_expectation(N, 1, 0)\n",
    "E_NX = calculate_expectation(N, 0, 1)\n",
    "E_XX = calculate_expectation(N, 1, 1)\n",
    "print(E_XX + E_XN + E_NX - E_NN)"
   ]
  },
  {
   "cell_type": "markdown",
   "metadata": {},
   "source": [
    "## Ejercicio\n",
    "\n",
    "* Discute la posibilidad de utilizar las desigualdades de Bell para el mismo problema\n",
    "* Realiza una adaptación del método de Cavalcanti para estados entrelazados en polarización e impleméntala con el simulador. ¿Qué puedes concluir de tus resultados?"
   ]
  },
  {
   "cell_type": "code",
   "execution_count": null,
   "metadata": {},
   "outputs": [],
   "source": []
  }
 ],
 "metadata": {
  "kernelspec": {
   "display_name": "Python 3",
   "language": "python",
   "name": "python3"
  },
  "language_info": {
   "codemirror_mode": {
    "name": "ipython",
    "version": 3
   },
   "file_extension": ".py",
   "mimetype": "text/x-python",
   "name": "python",
   "nbconvert_exporter": "python",
   "pygments_lexer": "ipython3",
   "version": "3.6.8"
  }
 },
 "nbformat": 4,
 "nbformat_minor": 2
}
