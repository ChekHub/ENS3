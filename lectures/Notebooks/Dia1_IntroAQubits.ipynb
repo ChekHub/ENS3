{
 "cells": [
  {
   "cell_type": "markdown",
   "metadata": {},
   "source": [
    "![header](Images/Common/header.png)\n",
    "\n",
    "<h1><font color='#fc8247'><center> Dia 1 : Introduccion al Qubit <center></h1>"
   ]
  },
  {
   "cell_type": "code",
   "execution_count": 1,
   "metadata": {},
   "outputs": [],
   "source": [
    "import numpy as np\n",
    "import scipy as sp\n",
    "import qutip as qp\n",
    "from IPython.core.display import HTML\n",
    "from IPython.display import YouTubeVideo\n",
    "\n",
    "def display_yotube_video(url, **kwargs):\n",
    "    \"\"\"\n",
    "    Displays a Youtube video in a Jupyter notebook.\n",
    "    \n",
    "    Args:\n",
    "        url (string): a link to a Youtube video.\n",
    "        **kwargs: further arguments for IPython.display.YouTubeVideo (i.e. width, height)\n",
    "    \n",
    "    Returns:\n",
    "        YouTubeVideo: a video that is displayed in your notebook.\n",
    "    \"\"\"\n",
    "    id_ = url.split(\"=\")[-1]\n",
    "    return YouTubeVideo(id_, **kwargs)\n"
   ]
  },
  {
   "cell_type": "markdown",
   "metadata": {},
   "source": [
    "In the dawn of the 20<sup>th</sup> century, deterministic predictions from classical mechanics were failing to explain new experiments.\n",
    "\n",
    "A new theory was necessary to describe the results of experiments performed with quantum objects; photons, electrons, and other microscopic particles. Quantum mechanics forgoes deterministic predictions, and instead embraces the concept of probability: the outcomes of experiments repeated many times will follow a predictable distribution, but an individual experiment has a calculable probability of appearing in any of the outcomes."
   ]
  },
  {
   "cell_type": "markdown",
   "metadata": {},
   "source": [
    "## ¿Qué es eso de la computadora cuántica?\n",
    "\n"
   ]
  },
  {
   "cell_type": "markdown",
   "metadata": {},
   "source": [
    "Quantum objects are engaged in an unending game of chance. Since quantum computing is a story of the subordination of quantum objects, it is fitting to begin our exploration with a simple game of our own."
   ]
  },
  {
   "cell_type": "markdown",
   "metadata": {},
   "source": [
    "## Quantum Computing Device\n",
    "\n"
   ]
  },
  {
   "cell_type": "markdown",
   "metadata": {},
   "source": [
    "The quantum computing device is, in abstract terms, similar to a classical computing device:\n",
    "it has a state, and the state of the device evolves by applying certain operations. The model of\n",
    "computation that we consider is the quantum circuit model, which works as follows:\n",
    "1. The quantum computer has a state that is contained in a quantum register and is initialized\n",
    "in a predefined way.\n",
    "2. The state evolves by applying operations specified in advance in the form of an algorithm.\n",
    "3. At the end of the computation, some information on the state of the quantum register is\n",
    "obtained by means of a special operation, called a measurement."
   ]
  },
  {
   "cell_type": "markdown",
   "metadata": {},
   "source": [
    "## THE NATURE OF COMPUTATION\n",
    "This simple game of chance is well-known the world over. In Japan it's called pachinko, and on American game shows it's known as Plinko. To mathematicians and physicists, it's sometimes called a Galton board.\n",
    "\n",
    "This game is a simple demonstration of how probabilities can emerge from a mechanical object. In this quiz, we'll remake the game with quantum objects: a photon instead of a ball, and beam splitters at every corner.\n",
    "\n",
    "At every corner, the falling ball and the photon behave similarly: both have their choice of two paths: either to the right, or to the left, each with equal probability."
   ]
  },
  {
   "cell_type": "code",
   "execution_count": 8,
   "metadata": {},
   "outputs": [
    {
     "data": {
      "text/html": [
       "<h1>Cual es el resultado mas probable?</h1>\n",
       "<video width=\"840\" height=\"460\" controls=\"\">\n",
       "<source src=\"https://embed-ssl.wistia.com/deliveries/82037b352b4033d8fc6060c46ffead4485a2edd9/video.mp4\">\n",
       "</video>\n",
       "<p>video reference <cite>brilliant.com</cite></p>\n",
       "\n"
      ],
      "text/plain": [
       "<IPython.core.display.HTML object>"
      ]
     },
     "execution_count": 8,
     "metadata": {},
     "output_type": "execute_result"
    }
   ],
   "source": [
    "\n",
    "video_path = \"https://embed-ssl.wistia.com/deliveries/82037b352b4033d8fc6060c46ffead4485a2edd9/video.mp4\"\n",
    "    \n",
    "HTML(\"\"\"<h1>Cual es el resultado mas probable?</h1>\n",
    "<video width=\"840\" height=\"460\" controls=\"\">\n",
    "<source src=\"{0}\">\n",
    "</video>\n",
    "<p>video reference <cite>brilliant.com</cite></p>\n",
    "\n",
    "\"\"\".format(video_path))"
   ]
  },
  {
   "cell_type": "markdown",
   "metadata": {},
   "source": [
    "With a single photon, the quantum game behaves much like a mechanical game with a bouncing ball; the more possible paths that lead to an outcome, the more likely it is.\n",
    "\n",
    "But if we shoot two photons in the top of the grid, things get much more interesting. When two or more photons meet somewhere on the grid, they can interfere with one another. Interference might lead to the two photons cancelling out, or constructively adding on to one another and appearing like two photons.\n",
    "\n",
    "Put plainly, thanks to this interference, we don't have any better way to find where the photons will most likely end up than to trace out all the paths each photon can take and calculate the interference effects where they meet. As deep as this is (very deep), we are not concerned here with the physics mystery, we're concerned with the last point:\n",
    "\n",
    "> **To predict the end state of a quantum object, we need to account for all the paths it could have taken to get there.**"
   ]
  },
  {
   "cell_type": "code",
   "execution_count": 15,
   "metadata": {},
   "outputs": [
    {
     "data": {
      "text/html": [
       "<h1>Interferencia</h1>\n",
       "<img src=\"https://ds055uzetaobb.cloudfront.net/uploads/YUNoihbrq6-p4g-packet.gif\">\n",
       "<p>video reference <cite>brilliant.com</cite></p>\n",
       "\n"
      ],
      "text/plain": [
       "<IPython.core.display.HTML object>"
      ]
     },
     "execution_count": 15,
     "metadata": {},
     "output_type": "execute_result"
    }
   ],
   "source": [
    "video_path= 'https://ds055uzetaobb.cloudfront.net/uploads/YUNoihbrq6-p4g-packet.gif'\n",
    "    \n",
    "HTML(\"\"\"<h1>Interferencia</h1>\n",
    "<img src=\"{}\">\n",
    "<p>video reference <cite>brilliant.com</cite></p>\n",
    "\n",
    "\"\"\".format(video_path))"
   ]
  },
  {
   "cell_type": "markdown",
   "metadata": {},
   "source": [
    "## How difficult is it to computationally predict the outcomes of this quantum game?\n",
    "\n",
    "If we shoot two photons into the top, each will follow a probabilistic path through the grid. Depending on the photon source and the path they take, two photons arriving at the same point may combine to appear like two photons, or cancel each other out completely.\n",
    "\n",
    "Simulating this game on a computer is a massive undertaking: The only way we know of to calculate the probability of finding a photon at each counter is to trace out every possible **combination** of paths for each photon and calculate any interference effects where the photons meet (indicated here in red)."
   ]
  },
  {
   "cell_type": "markdown",
   "metadata": {},
   "source": [
    "**<span style=\"color:blue\"> aggregar imagen de multiples interferencias 2 niveles</span>**"
   ]
  },
  {
   "cell_type": "markdown",
   "metadata": {},
   "source": [
    "In this simple case with two rows of beam splitters and two photons, each photon can take one of four paths, leading to sixteen different combinations of paths for interference calculations. As the game gets larger, more and more paths will end up meeting and interfering."
   ]
  },
  {
   "cell_type": "markdown",
   "metadata": {},
   "source": [
    "## Mayor Complejidad\n",
    "For each of the path combinations, calculating the interference between them is usually quick and easy, taking time $t_{c}$\n",
    "\n",
    "How much time does it take to calculate the photon distribution for a 3-layer quantum game with two photons?\n",
    "\n",
    ">Hint: Even if the photons don't meet in some of the combinations, we can't know that until we do the calculation; when simulating in this way, this step needs to be repeated for every possible combination."
   ]
  },
  {
   "cell_type": "markdown",
   "metadata": {},
   "source": [
    "**<span style=\"color:blue\"> aggregar imagen de 3 niveles </span>**"
   ]
  },
  {
   "cell_type": "code",
   "execution_count": null,
   "metadata": {},
   "outputs": [],
   "source": []
  },
  {
   "cell_type": "markdown",
   "metadata": {},
   "source": [
    "Simulating this simple game seems to take a lot of calculations. What if we just build it?\n",
    "\n",
    "With a beam splitter grid in hand, we can shoot two photons into the top and use photon counters to find the distribution at the bottom experimentally.\n",
    "\n",
    "\n",
    "\n",
    "With only a pair of photons per experiment, obtaining a reliable estimate for the distribution at the detector involves sampling and averaging millions of photons. For each measurement, the sampling time would be equal to the time the photons take to traverse the gap \\ell ℓ from the first beam splitter to the row of photon counters at the speed of light. For a single beam splitter with two detectors, this photon sampling takes time t_qt \n",
    "q\n",
    "​\t\n",
    " .\n",
    "\n",
    "How much time does it take for a 3-layer experimental solve of this quantum game?"
   ]
  },
  {
   "cell_type": "code",
   "execution_count": null,
   "metadata": {},
   "outputs": [],
   "source": []
  }
 ],
 "metadata": {
  "anaconda-cloud": {},
  "kernelspec": {
   "display_name": "Python 3",
   "language": "python",
   "name": "python3"
  },
  "language_info": {
   "codemirror_mode": {
    "name": "ipython",
    "version": 3
   },
   "file_extension": ".py",
   "mimetype": "text/x-python",
   "name": "python",
   "nbconvert_exporter": "python",
   "pygments_lexer": "ipython3",
   "version": "3.6.8"
  }
 },
 "nbformat": 4,
 "nbformat_minor": 2
}
