{
 "cells": [
  {
   "cell_type": "markdown",
   "metadata": {
    "slideshow": {
     "slide_type": "skip"
    }
   },
   "source": [
    "\n",
    "$\\newcommand{\\ve}[1]{\\mathbf{#1}}$\n",
    "$\\newcommand{\\ovo}{\\overline{O}}$\n",
    "$\\def\\Brack#1{\\left[ #1 \\right]}$\n",
    "$\\def\\bra#1{\\mathinner{\\langle{#1}|}}$\n",
    "$\\def\\ket#1{\\mathinner{|{#1}\\rangle}}$\n",
    "$\\def\\braket#1{\\mathinner{\\langle{#1}\\rangle}}$\n",
    "$\\def\\Bra#1{\\left<#1\\right|}$\n",
    "$\\def\\Ket#1{\\left|#1\\right>}$\n",
    "$\\def\\KetC#1{\\left|\\left\\{ #1 \\right\\} \\right\\rangle}$\n",
    "$\\def\\BraC#1{\\left\\langle \\left\\{ #1 \\right\\} \\right|}$\n",
    "$\\def\\sen{\\mathop{\\mbox{\\normalfont sen}}\\nolimits}$\n",
    "$\\newcommand{\\vac}{\\ket{\\text{vac}}}$\n",
    "$\\newcommand{\\vacbra}{\\bra{\\text{vac}}}$\n",
    "$\\newcommand{\\sinc}{\\text{sinc}}$"
   ]
  },
  {
   "cell_type": "markdown",
   "metadata": {
    "slideshow": {
     "slide_type": "slide"
    }
   },
   "source": [
    "<center> <h1>Quantum Non Demolition Measurements (QND)</h1>\n",
    "<h2> Mediciones cuánticas no destructivas </h2></center>\n",
    "\n"
   ]
  },
  {
   "cell_type": "markdown",
   "metadata": {
    "slideshow": {
     "slide_type": "slide"
    }
   },
   "source": [
    "<center><h1> Outline <h1></center>\n",
    "    \n",
    "* Divisor de haz\n",
    "* Interferómetro\n",
    "* Medidas no destructivas. Ver solo un poquito."
   ]
  },
  {
   "cell_type": "markdown",
   "metadata": {
    "slideshow": {
     "slide_type": "slide"
    }
   },
   "source": [
    "<center><h1> Divisor de haz <h1></center>\n",
    "    \n",
    "Un divisor de haz sin pérdidas, es como el que se muestra en la figura. Posee:\n",
    "* Dos modos de campo de entrada\n",
    "* Dos modos de campo de salida\n",
    "<img src=\"Images/BS.png\" alt=\"drawing\" style=\"width:100px;\">\n",
    "* Que no haya pérdidas garantiza que la probabilidad se conserve\n",
    "* Es una transformación unitaria que se puede escribir como\n",
    "\\begin{equation}\n",
    "|\\psi' \\rangle = U | \\psi \\rangle\n",
    "\\end{equation}\n",
    "* Se puede escribir en forma matricial\n",
    "$$\\mathbf{U} = e^{i\\kappa}\\left[\\begin{array}\n",
    "{rr}\n",
    "te^{i\\delta_r} & -re^{-i\\delta_t}  \\\\\n",
    "re^{i\\delta_t} & t^{-i\\delta_r} \\\\\n",
    "\\end{array}\\right]\n",
    "$$\n",
    "La forma matricial significa que si llega un estado $|0\\rangle$ o $|1\\rangle$ tendrá la transformación\n",
    "$$|0\\rangle \\rightarrow U_{00} |0\\rangle + U_{10} |1\\rangle $$\n",
    "$$|1\\rangle \\rightarrow U_{01} |0\\rangle + U_{11} |1\\rangle$$\n",
    "    \n",
    "    "
   ]
  },
  {
   "cell_type": "markdown",
   "metadata": {
    "slideshow": {
     "slide_type": "subslide"
    }
   },
   "source": [
    "<center><h2> Algunos hechos interesantes del divisor de haz <h2></center>\n",
    "\n",
    "* $t^2 + r^2 =1$\n",
    "* La diferencia de fase entre los campos reflejado y transmitido cuando el estado de entrada es $|0\\rangle$ es $\\delta_0=\\delta_r-\\delta_t$\n",
    "    * Cuando el estado de entrada es |1\\rangle, la diferencia de fase es $\\delta_1=-\\delta_r+\\delta_t \\pm \\pi$.\n",
    "* Además, todo divisor de haz cumple $\\delta_0+\\delta_1=\\pm \\pi$"
   ]
  },
  {
   "cell_type": "markdown",
   "metadata": {
    "slideshow": {
     "slide_type": "slide"
    }
   },
   "source": [
    "<center><h2> Divisores de haz especiales <h2></center>\n",
    "    \n",
    "$$\\mathbf{U}_1 = e^{i\\kappa}\\left[\\begin{array}\n",
    "{rr}\n",
    "ir & t  \\\\\n",
    "t & ir \\\\\n",
    "\\end{array}\\right], \\quad \n",
    "\\mathbf{U}_2 = e^{i\\kappa}\\left[\\begin{array}\n",
    "{rr}\n",
    "r & t  \\\\\n",
    "t & -r \\\\\n",
    "\\end{array}\\right]\n",
    "$$\n",
    "\n",
    "* $U_1$ no es simétrico en el tiempo, ¿Qué significa esto?\n",
    "* Pero es espacialmente simétrica para $r=t=1/\\sqrt{2}$\n",
    "* ¿Es $U_2$ temporalmente simétrica? \n",
    "    * ¿Y espacialmente?\n",
    "    "
   ]
  },
  {
   "cell_type": "markdown",
   "metadata": {
    "slideshow": {
     "slide_type": "subslide"
    }
   },
   "source": [
    "## Graficando el qubit en la esfera de Bloch\n",
    "\n",
    "Recordar que para graficar el qubit en la esfera de Bloch es necesario obtener las proyecciones en cada uno de los ejes. Dado que contamos con la matriz de densidad del sistema, y como podemos escribir el estado de un qubit de forma general en términos de las matrices de Pauli como sigue\n",
    "\n",
    "$$\n",
    "\\rho = \\frac{1}{2} \\left( \\mathbf{1}+ \\vec{r} \\cdot \\vec{\\sigma} \\right),\n",
    "$$\n",
    "\n",
    "donde $\\vec{\\sigma} = (\\sigma_1,\\sigma_2, \\sigma_3 )$ y $\\vec{r} = (\\sin \\theta \\cos \\phi, \\sin \\theta \\sin\\phi, \\cos \\theta)$, por lo que obtener las componentes $r_i$ es directo de la forma\n",
    "\n",
    "$$\n",
    "r_i = \\text{tr} [\\rho \\sigma_i]\n",
    "$$"
   ]
  },
  {
   "cell_type": "code",
   "execution_count": 4,
   "metadata": {
    "slideshow": {
     "slide_type": "subslide"
    }
   },
   "outputs": [],
   "source": [
    "import numpy as np\n",
    "from scipy.linalg import expm, norm\n",
    "import tensorflow as tf\n",
    "import strawberryfields as sf\n",
    "from strawberryfields.ops import *\n",
    "from strawberryfields.backends.tfbackend.ops import partial_trace\n",
    "# matrices de Pauli\n",
    "s1 = np.array([[0, 1],[ 1, 0]])\n",
    "s2 = np.array([[0, -1j],[1j, 0]])\n",
    "s3 = np.array([[1, 0],[0, -1]])\n",
    "\n",
    "cutoff = 2\n",
    "\n",
    "#entrada 1 del BS\n",
    "psi = np.zeros([cutoff], dtype=np.complex128)\n",
    "psi[0] = 1.0\n",
    "psi[1] = 1.0\n",
    "\n",
    "psi /= np.linalg.norm(psi)\n",
    "\n",
    "#entrada 2 del BS\n",
    "phi = np.zeros([cutoff],dtype=np.complex128)\n",
    "phi[0] = 1.0\n",
    "phi /= np.linalg.norm(phi)"
   ]
  },
  {
   "cell_type": "code",
   "execution_count": 5,
   "metadata": {
    "slideshow": {
     "slide_type": "subslide"
    }
   },
   "outputs": [
    {
     "data": {
      "text/plain": [
       "<BarContainer object of 2 artists>"
      ]
     },
     "execution_count": 5,
     "metadata": {},
     "output_type": "execute_result"
    },
    {
     "data": {
      "image/png": "[encoded data removed]",
      "text/plain": [
       "<Figure size 432x288 with 1 Axes>"
      ]
     },
     "metadata": {
      "needs_background": "light"
     },
     "output_type": "display_data"
    }
   ],
   "source": [
    "#conversión al tipo necesario para tensor flow\n",
    "psi = tf.cast(psi, tf.complex64)\n",
    "phi = tf.cast(phi,tf.complex64)\n",
    "in_state = tf.tensordot(psi,phi,axes=0) \n",
    "eng, q = sf.Engine(2)\n",
    "with eng:\n",
    "    Ket(in_state) | q\n",
    "    BSgate(np.pi/4,0) | q\n",
    "#state_out = eng.run('tf', cutoff_dim=cutoff,eval=False,modes=[1])\n",
    "state_out = eng.run('tf', cutoff_dim=cutoff)\n",
    "#Matriz de densidad del sistema y las matrices reducidas\n",
    "rho=state_out.dm()\n",
    "rhoA = np.einsum('ijll->ij', rho)\n",
    "rhoB = np.einsum('kkij->ij', rho)\n",
    "#Grafica de p(n) para uno de los modos de salida\n",
    "import matplotlib.pyplot as plt\n",
    "plt.bar(np.arange(cutoff), height=np.real_if_close(np.diag(rhoA)))"
   ]
  },
  {
   "cell_type": "code",
   "execution_count": 6,
   "metadata": {
    "slideshow": {
     "slide_type": "subslide"
    }
   },
   "outputs": [],
   "source": [
    "# Gráfica en esfera de Bloch\n",
    "def M(axis, theta):\n",
    "    #Función que realiza una rotación en el eje axis\n",
    "    return expm(np.cross(np.eye(3), axis/norm(axis)*theta))\n",
    "from qutip import Bloch\n",
    "b=Bloch()\n",
    "vec = [[0,0,-1],[0,1,0],[0,0,1]]\n",
    "b.add_vectors(vec)\n",
    "npts=10;\n",
    "\n",
    "v5, axis, theta = [0.1,0.5,0], [0,0,1],1.2\n",
    "#v=v/norm(v)\n",
    "v1= np.trace(rhoA@s1)\n",
    "v2= np.trace(rhoA@s2)\n",
    "v3= np.trace(rhoA@s3)\n",
    "v = np.real_if_close([v1,v2,v3])\n",
    "b.clear()\n",
    "b.vector_color = ['r']\n",
    "b.view = [-40,30]\n",
    "#b.add_points(np.transpose(vecv))\n",
    "b.add_vectors(v)\n"
   ]
  },
  {
   "cell_type": "code",
   "execution_count": 12,
   "metadata": {
    "slideshow": {
     "slide_type": "subslide"
    }
   },
   "outputs": [
    {
     "data": {
      "image/png": "[encoded data removed]",
      "text/plain": [
       "<Figure size 360x360 with 1 Axes>"
      ]
     },
     "metadata": {
      "needs_background": "light"
     },
     "output_type": "display_data"
    }
   ],
   "source": [
    "b.show()"
   ]
  },
  {
   "cell_type": "markdown",
   "metadata": {
    "slideshow": {
     "slide_type": "slide"
    }
   },
   "source": [
    "### Ejercicio: \n",
    "\n",
    "* Escribe las transformaciones sobre estados $|0\\rangle$ y $| 1\\rangle$ \n",
    "* Obtén las transformaciones para una combinación lineal de estados de la forma $|\\psi \\rangle = \\alpha |0 \\rangle + \\beta |1\\rangle$\n",
    "* Haz un programa utilizando RBF que realice la transformación de estos estados. \n",
    "* ¿Podemos construir alguna compuerta del set estudiado hasta ahora con lo que acabamos de ver de los divisores de haz?\n",
    "\n",
    "NOTA PERSONAL: falta agregar la parametrización de los coeficientes\n",
    "\n",
    "* Construya cualquier transformación unitaria mediante retardadores de fase y la compuerta $U_2$"
   ]
  },
  {
   "cell_type": "markdown",
   "metadata": {
    "slideshow": {
     "slide_type": "slide"
    }
   },
   "source": [
    "<center><h2> Inteferómetro Mach-Zender <h2></center>\n",
    "Un interferómetro de Mach-Zender se construye como sigue   \n",
    "<img src=\"Images/MZ.png\" alt=\"drawing\" style=\"width:250px;\">\n",
    "    \n",
    "- Es equivalente a introducir un 'retardador de fase' entre dos compuertas Hadamard (Compruebe esto). Esto se puede hacer con una compuerta de fase. Esto es equivalente a $H \\phi(-\\alpha) H$, donde la fase $\\alpha$ es una fase relativa entre los dos caminos ópticos posibles\n",
    "    \n",
    "- Considere ahora que un sólo fotón entra en el interferómetro por el brazo superior ($|0\\rangle$). Luego, se detecta un fotón en el brazo superior a la salida del interferómetro. Se puede demostrar que la probabilidad de obtener un fotón está dada por \n",
    "    $$p_0 = \\frac{1}{2} \\left( 1+ \\cos \\alpha\\right)$$\n",
    "    "
   ]
  },
  {
   "cell_type": "markdown",
   "metadata": {
    "slideshow": {
     "slide_type": "slide"
    }
   },
   "source": [
    "<center><h2> Mediciones nulas (\"No destructivas\") <h2></center>\n",
    "Queremos detectar detectar una bomba que es tan sensible, que con sólo absorber un fotón exlota. Es decir, que si nosotros la observamos, por el hecho de saber que está allí (haberla iluminado de alguna forma para observarla) habría provocado su explosión. ¿Habrá alguna manera de resolver este paradigma?\n",
    "    \n",
    "NOTA: colocar encuesta y resultados en esta sección\n",
    "  \n",
    "####  Una medición nula: es aquella en la que el objeto a ser medido no cambia cuando cumple con ciertas características, pero se modifica cuando cumple con otras. Considere el ejemplo en la figura, donde un electrón sólo puede ser excitado si un fotón incide con la polarización adecuada.\n",
    "<center>    \n",
    "<img src=\"Images/NM-01.png\" alt=\"drawing\" style=\"width:250px;\">\n",
    "</center>\n"
   ]
  },
  {
   "cell_type": "markdown",
   "metadata": {
    "slideshow": {
     "slide_type": "subslide"
    }
   },
   "source": [
    "<center><h2> Implementación en StrawBerry Fields <h2></center>\n",
    "Queremos detectar bomba que se muestra en la figura\n",
    "    <img src=\"Images/Bomba.png\" alt=\"drawing\" style=\"width:250px;\">\n",
    "    \n",
    "Flujo de codificación y simulación:\n",
    "* Preparar un estado inicial en $|0\\rangle$.\n",
    "* Hacerlo evolucionar en el BS\n",
    "* Calcular la probabilidad de que el fotón se haya ido por el camino inferior, utilizando $P_1 = |\\langle 1 | \\psi \\rangle |^2$. \n",
    "* Aplicar la medición nula, es decir, volver a preparar el estado en el modo $|0\\rangle$ y hacerlo evolucionar en el BS\n",
    "* Calcular las probabilidades de detección finales. \n",
    "    \n",
    "\n",
    "   "
   ]
  },
  {
   "cell_type": "code",
   "execution_count": 7,
   "metadata": {
    "slideshow": {
     "slide_type": "subslide"
    }
   },
   "outputs": [],
   "source": [
    "# se prepararn las entradas del BS\n",
    "psi = np.zeros([cutoff], dtype=np.complex128)\n",
    "#psi[0] = 1.0\n",
    "psi[1] = 1.0\n",
    "\n",
    "psi /= np.linalg.norm(psi)\n",
    "\n",
    "#entrada 2 del BS\n",
    "phi = np.zeros([cutoff],dtype=np.complex128)\n",
    "phi[0] = 1.0\n",
    "phi /= np.linalg.norm(phi)\n",
    "\n",
    "\n",
    "psi = tf.cast(psi, tf.complex64)\n",
    "phi = tf.cast(phi,tf.complex64)\n",
    "in_state = tf.tensordot(psi,phi,axes=0) \n",
    "\n",
    "eng, q = sf.Engine(2)\n",
    "with eng:\n",
    "    Ket(in_state) | q\n",
    "    BSgate(np.pi/4,0) | q   #2 efecto del BS sobre la entrada \n",
    "#    Measure | q[1] # esta estrategia tiene la problemática de que \n",
    "state_out = eng.run('tf', cutoff_dim=cutoff)\n",
    "rho1=state_out.dm()\n",
    "#realizar medición\n",
    "MMM= np.tensordot(np.eye(2),np.array([0,1])[np.newaxis].T@np.array([0,1])[np.newaxis],axes=0)\n",
    "Prob_Bomba=np.real_if_close(np.trace(np.trace(rho1@MMM)))\n",
    "\n",
    "# se prepara el estado nuevamente\n",
    "# se hace pasar por el divisor de haz\n",
    "# se hacen mediciones de n\n",
    "eng, q = sf.Engine(2)\n",
    "with eng:\n",
    "    Ket(in_state) | q\n",
    "    BSgate(np.pi/4,0) | q   #2 efecto del BS sobre la entrada \n",
    "    Measure | q[0]\n",
    "    Measure | q[1] \n",
    "\n",
    "\n",
    "#sess=tf.Session()\n",
    "#with sess.as_default():\n",
    "    #psi_value=sess.run(psi)\n",
    "#    MMM=MMM.eval()\n",
    " #   rhoB2=rhoB.eval()\n"
   ]
  },
  {
   "cell_type": "code",
   "execution_count": 96,
   "metadata": {},
   "outputs": [
    {
     "data": {
      "text/plain": [
       "0.4999999701976776"
      ]
     },
     "execution_count": 96,
     "metadata": {},
     "output_type": "execute_result"
    }
   ],
   "source": []
  },
  {
   "cell_type": "code",
   "execution_count": 56,
   "metadata": {},
   "outputs": [
    {
     "data": {
      "text/plain": [
       "(0.9999999403953552+0j)"
      ]
     },
     "execution_count": 56,
     "metadata": {},
     "output_type": "execute_result"
    }
   ],
   "source": [
    "np.trace(np.trace(state_out.dm()@np.tensordot(np.eye(2),np.eye(2),axes=0)))"
   ]
  },
  {
   "cell_type": "code",
   "execution_count": 74,
   "metadata": {},
   "outputs": [
    {
     "data": {
      "text/plain": [
       "array([[0, 0],\n",
       "       [0, 1]])"
      ]
     },
     "execution_count": 74,
     "metadata": {},
     "output_type": "execute_result"
    }
   ],
   "source": [
    "np.array([0,1])[np.newaxis].T@np.array([0,1])[np.newaxis]"
   ]
  },
  {
   "cell_type": "code",
   "execution_count": 69,
   "metadata": {},
   "outputs": [],
   "source": [
    "a = np.array([5,4])[np.newaxis]"
   ]
  },
  {
   "cell_type": "code",
   "execution_count": 70,
   "metadata": {},
   "outputs": [
    {
     "data": {
      "text/plain": [
       "array([[5, 4]])"
      ]
     },
     "execution_count": 70,
     "metadata": {},
     "output_type": "execute_result"
    }
   ],
   "source": [
    "a"
   ]
  },
  {
   "cell_type": "code",
   "execution_count": 77,
   "metadata": {},
   "outputs": [
    {
     "data": {
      "text/plain": [
       "array([[0, 0],\n",
       "       [0, 1]])"
      ]
     },
     "execution_count": 77,
     "metadata": {},
     "output_type": "execute_result"
    }
   ],
   "source": [
    "np.array([0,1])[np.newaxis].T@np.array([0,1])[np.newaxis]"
   ]
  },
  {
   "cell_type": "code",
   "execution_count": 78,
   "metadata": {},
   "outputs": [
    {
     "data": {
      "text/plain": [
       "array([[1., 0.],\n",
       "       [0., 1.]])"
      ]
     },
     "execution_count": 78,
     "metadata": {},
     "output_type": "execute_result"
    }
   ],
   "source": [
    "np.eye(2)"
   ]
  },
  {
   "cell_type": "code",
   "execution_count": 80,
   "metadata": {},
   "outputs": [
    {
     "data": {
      "text/plain": [
       "array([[[[0., 0.],\n",
       "         [0., 1.]],\n",
       "\n",
       "        [[0., 0.],\n",
       "         [0., 0.]]],\n",
       "\n",
       "\n",
       "       [[[0., 0.],\n",
       "         [0., 0.]],\n",
       "\n",
       "        [[0., 0.],\n",
       "         [0., 1.]]]])"
      ]
     },
     "execution_count": 80,
     "metadata": {},
     "output_type": "execute_result"
    }
   ],
   "source": [
    "MMM"
   ]
  },
  {
   "cell_type": "code",
   "execution_count": null,
   "metadata": {},
   "outputs": [],
   "source": []
  }
 ],
 "metadata": {
  "celltoolbar": "Slideshow",
  "kernelspec": {
   "display_name": "Python 3",
   "language": "python",
   "name": "python3"
  },
  "language_info": {
   "codemirror_mode": {
    "name": "ipython",
    "version": 3
   },
   "file_extension": ".py",
   "mimetype": "text/x-python",
   "name": "python",
   "nbconvert_exporter": "python",
   "pygments_lexer": "ipython3",
   "version": "3.6.8"
  }
 },
 "nbformat": 4,
 "nbformat_minor": 2
}
